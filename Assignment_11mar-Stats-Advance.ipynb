{
 "cells": [
  {
   "cell_type": "code",
   "execution_count": null,
   "id": "950e0d3a-72a4-4b9d-bd1e-1ea88ab251ae",
   "metadata": {},
   "outputs": [],
   "source": [
    "Q1: What is the difference between a t-test and a z-test? Provide an example scenario where you would\n",
    "use each type of test."
   ]
  },
  {
   "cell_type": "code",
   "execution_count": null,
   "id": "91f3b307-60da-4dd4-b516-407552e2d0bf",
   "metadata": {},
   "outputs": [],
   "source": [
    "The T-test is commonly used for comparing means between groups, especially when working with small samples.\n",
    "The Z-test is employed for population mean comparisons, usually with large samples.\n",
    "\n",
    "Generally, z-tests are used when we have large sample sizes (n > 30), whereas t-tests are most helpful\n",
    "with a smaller sample size (n < 30). Both methods assume a normal distribution of the data, but the\n",
    "z-tests are most useful when the standard deviation is known.\n",
    "\n",
    "Both the T-test and the Z-test canbe applied in both one-sample & two-sample scenarios."
   ]
  },
  {
   "cell_type": "code",
   "execution_count": null,
   "id": "3afba9ba-b450-4d3d-9dd3-a9b2f3390387",
   "metadata": {},
   "outputs": [],
   "source": [
    "Q2: Differentiate between one-tailed and two-tailed tests."
   ]
  },
  {
   "cell_type": "code",
   "execution_count": null,
   "id": "cbf425a9-a965-4e0b-92ae-7033ea34b5fd",
   "metadata": {},
   "outputs": [],
   "source": [
    "One-tailed tests are also known as directional hypotheses, and they look for an increase or decrease\n",
    "in a parameter. For example, if the original claim of a question includes words like \"increased\",\n",
    "\"greater\", or \"improved\", then a one-tailed test is used. In a one-tailed test, the critical region \n",
    "is on one side of the probability distribution curve, either on the left or right. \n",
    "\n",
    "Two-tailed tests are also known as non-directional hypotheses, and they look for a change in a parameter,\n",
    "which could be an increase or decrease. In a two-tailed test, the critical region is on both sides of \n",
    "the probability distribution curve."
   ]
  },
  {
   "cell_type": "code",
   "execution_count": null,
   "id": "0e30c788-a428-4e25-9cde-ac99a6bcfac5",
   "metadata": {},
   "outputs": [],
   "source": [
    "Q3: Explain the concept of Type 1 and Type 2 errors in hypothesis testing. Provide an example scenario for\n",
    "each type of error."
   ]
  },
  {
   "cell_type": "code",
   "execution_count": null,
   "id": "bf6c8f2e-66ae-4a54-aed6-bcb57adee372",
   "metadata": {},
   "outputs": [],
   "source": [
    "A type I error (false-positive) occurs if an investigator rejects a null hypothesis that is actually \n",
    "true in the population; a type II error (false-negative) occurs if the investigator fails to reject \n",
    "a null hypothesis that is actually false in the population.\n",
    "\n",
    "Examples:\n",
    "    \n",
    "Type I error: An innocent person is convicted of a crime\n",
    "Type II error: A guilty person is not convicted of a crime"
   ]
  },
  {
   "cell_type": "code",
   "execution_count": null,
   "id": "064d101e-30b2-4724-a68f-2e2993d7a348",
   "metadata": {},
   "outputs": [],
   "source": [
    "Q4: Explain Bayes's theorem with an example."
   ]
  },
  {
   "cell_type": "code",
   "execution_count": null,
   "id": "4675515a-cdc3-4ebf-aaf6-b131bbfd95e0",
   "metadata": {},
   "outputs": [],
   "source": [
    "Bayes theorem is also known as the formula for the probability of “causes”.\n",
    "For example, Bayes' theorem can be used to assess the risk of an individual developing health problems\n",
    "based on their age, rather than assuming they are typical of the population. "
   ]
  },
  {
   "cell_type": "code",
   "execution_count": null,
   "id": "696634e6-f58b-46c9-b6cf-8d811b154d76",
   "metadata": {},
   "outputs": [],
   "source": [
    "Q5: What is a confidence interval? How to calculate the confidence interval, explain with an example."
   ]
  },
  {
   "cell_type": "code",
   "execution_count": null,
   "id": "a99ec05c-a2cf-4b86-a683-6d30010ff27c",
   "metadata": {},
   "outputs": [],
   "source": [
    "A confidence interval (CI) is a range of values that is expected to contain the parameter being \n",
    "estimated a certain percentage of the time. For example, a 95% CI means that 95% of the time the \n",
    "estimate will fall between the upper and lower values of the CI.\n",
    "\n",
    "The formula for calculating a CI is: \n",
    "CI = X̄ ± Z(S ÷ √n) \n",
    "In this formula, X̄ is the sample mean, Z is the Z-value from the normal standard distribution,\n",
    "S is the population standard deviation, and n is the sample size. "
   ]
  },
  {
   "cell_type": "code",
   "execution_count": null,
   "id": "13a82f97-f162-4429-8d14-010ffacc72b8",
   "metadata": {},
   "outputs": [],
   "source": [
    "Q6. Use Bayes' Theorem to calculate the probability of an event occurring given prior knowledge of the\n",
    "event's probability and new evidence. Provide a sample problem and solution."
   ]
  },
  {
   "cell_type": "code",
   "execution_count": null,
   "id": "cb68670b-855b-46fc-836f-97928bf75b3f",
   "metadata": {},
   "outputs": [],
   "source": [
    "Sample Problem: Amy has two bags. Bag I has 7 red and 4 blue balls and bag II has 5 red \n",
    "and 9 blue balls. Amy draws a ball at random and it turns out to be red. Determine the \n",
    "probability that the ball was from the bag I.\n",
    "\n",
    "Solution:\n",
    "\n",
    "Assume A be the event of drawing a red ball. \n",
    "Probability of choosing a bag for drawing a ball is 1/2, that is, P(X) = P(Y) = 1/2\n",
    "\n",
    "Let X and Y be the events that the ball is from the bag I and bag II, respectively. \n",
    "Since there are 7 red balls out of a total of 11 balls in the bag I, therefore, \n",
    "P(drawing a red ball from the bag I) = P(A|X) = 7/11\n",
    "Similarly, P(drawing a red ball from bag II) = P(A|Y) = 5/14\n",
    "\n",
    "P(the ball is from the bag I given that it is a red ball), that is, P(X|A) = [P(A|X)P(X)] / [P(A|X)P(X)+P(A|Y)P(Y)]\n",
    "                                                                           = [((7/11)(1/2))] / [(7/11)(1/2)+(5/14)(1/2)]\n",
    "                                                                           = 0.64"
   ]
  },
  {
   "cell_type": "code",
   "execution_count": null,
   "id": "ecb485d6-d103-4e8c-a377-6f81b5756a27",
   "metadata": {},
   "outputs": [],
   "source": [
    "Q7. Calculate the 95% confidence interval for a sample of data with a mean of 50 and a standard deviation\n",
    "of 5. Interpret the results."
   ]
  },
  {
   "cell_type": "code",
   "execution_count": null,
   "id": "42a9ab3e-d9e4-40cd-ab88-29781b74aae4",
   "metadata": {},
   "outputs": [],
   "source": [
    "Let sample size, n = 30.\n",
    "sample mean, X̄ = 50, sample std = 5, confidence interval = 0.95\n",
    "significance value, α = 0.05\n",
    "α/2 = 0.05/2 = 0.025\n",
    "area = 1-0.025 = 0.975\n",
    "z-score at 0.975 = 1.96 \n",
    "\n",
    "lower_bound = X̄ - moe\n",
    "            = 50 -(1.96*(5/sqrt(30))) = 48.21\n",
    "\n",
    "upper_bound = X̄ + moe\n",
    "            = 50 +(1.96*(5/sqrt(30))) = 51.78\n",
    "    \n",
    "I am 95% confident that the population mean lies between 48.21 and 51.78"
   ]
  },
  {
   "cell_type": "code",
   "execution_count": null,
   "id": "8ddade4a-d4ee-489c-be90-7fb1ef1fc3ad",
   "metadata": {},
   "outputs": [],
   "source": [
    "Q8. What is the margin of error in a confidence interval? How does sample size affect the margin of error?\n",
    "Provide an example of a scenario where a larger sample size would result in a smaller margin of error."
   ]
  },
  {
   "cell_type": "code",
   "execution_count": null,
   "id": "defd3269-2fea-4ec0-9a91-7057d44b68c6",
   "metadata": {},
   "outputs": [],
   "source": [
    "The margin of error in a confidence interval is half the width of the interval, or its radius. \n",
    "It's not a fixed value and depends on several factors, including:\n",
    "\n",
    "Sample size: A larger sample size generally results in a smaller margin of error, as we have more\n",
    "information to base our estimate on. However, increasing the sample size beyond a certain point may not \n",
    "give us a significant return. For example, increasing the sample size from 1500 to 2000 may only \n",
    "decrease the margin of error by 0.34%.\n",
    "\n",
    "Variability of the data: Higher variability in the data results in a larger margin of error, as the \n",
    "data is more spread out and less consistent.\n",
    "\n",
    "Confidence level: A higher confidence level results in a larger margin of error, as we want to be more\n",
    "certain that our interval covers the true parameter value. "
   ]
  },
  {
   "cell_type": "code",
   "execution_count": null,
   "id": "569bccee-4ff1-4d6c-8a0b-49eecae2b4e9",
   "metadata": {},
   "outputs": [],
   "source": [
    "Q9. Calculate the z-score for a data point with a value of 75, a population mean of 70, and a population\n",
    "standard deviation of 5. Interpret the results."
   ]
  },
  {
   "cell_type": "code",
   "execution_count": null,
   "id": "84b46264-25ee-491d-ae9f-a349fee0d3af",
   "metadata": {},
   "outputs": [],
   "source": [
    "population mean(mu) = 70, population standard deviation(sigma) = 5, data point = 75\n",
    "z-score ={data point-mu}/{sigma}\n",
    "        =(75-70)/5 = 1\n",
    "    \n",
    "This means it is one standard deviation above the mean."
   ]
  },
  {
   "cell_type": "code",
   "execution_count": null,
   "id": "13e9e973-1f83-4fdf-80fa-f8d4faabc576",
   "metadata": {},
   "outputs": [],
   "source": [
    "Q10. In a study of the effectiveness of a new weight loss drug, a sample of 50 participants lost an average\n",
    "of 6 pounds with a standard deviation of 2.5 pounds. Conduct a hypothesis test to determine if the drug is\n",
    "significantly effective at a 95% confidence level using a t-test."
   ]
  },
  {
   "cell_type": "code",
   "execution_count": null,
   "id": "3b809dac-78ee-422d-9784-d70c0000b395",
   "metadata": {},
   "outputs": [],
   "source": [
    "n=50, sample mean(X̄) = 6, sample std(s) = 2.5, population mean(mu) = 5.99\n",
    "confidence interval = 0.95, significance value(α) = 1-0.95 = 0.05 \n",
    "α/2 = 0.05/2 = 0.025\n",
    "area = 1-0.025 = 0.975\n",
    "z-score at 0.975 = 1.96 \n",
    "\n",
    "lower_bound = X̄ - moe\n",
    "            = 6 -(1.96*(2.5/sqrt(50))) = 5.306\n",
    "\n",
    "upper_bound = X̄ + moe\n",
    "            = 6 +(1.96*(2.5/sqrt(50))) = 6.693\n",
    "    \n",
    "estimated population mean = (lower_bound + upper_bound) / 2\n",
    "                          = 5.99\n",
    "\n",
    "Null Hypothesis: The drug is significantly effective for weight loss\n",
    "Alternate Hypothesis: The drug is not effective for weight loss\n",
    "\n",
    "degree of freedom = n-1 = 50-1= 49\n",
    "\n",
    "using t-test,\n",
    "t-score at 0.025 significance level  = 2.0096\n",
    "calculating t-test statistics,t = (X̄-mu)/(s/sqrt(n))\n",
    "                                = (6-5.99)/(2.5/7.07)\n",
    "                                = 0.01/0.353 = 0.0283\n",
    "Decision Rule: \n",
    "     T-test(0.0283)<2.0096\n",
    "    Therefore, we are accepting the null hypothesis that the drug is significantly effective for weight loss."
   ]
  },
  {
   "cell_type": "code",
   "execution_count": null,
   "id": "30e4157c-1148-4835-ab16-6d16115d642c",
   "metadata": {},
   "outputs": [],
   "source": [
    "Q11. In a survey of 500 people, 65% reported being satisfied with their current job. Calculate the 95%\n",
    "confidence interval for the true proportion of people who are satisfied with their job."
   ]
  },
  {
   "cell_type": "code",
   "execution_count": null,
   "id": "dc364238-dd72-42a5-a799-288be5c90e2f",
   "metadata": {},
   "outputs": [],
   "source": [
    "Let X = the number of people being satisfied with their current job.\n",
    "\n",
    "To calculate the confidence interval, you must find p, q, and EBP(The error bound for a proportion).\n",
    "\n",
    "n = 500\n",
    "\n",
    "x = the number of successes = (500*65)/100 = 325\n",
    "\n",
    "p = {x}/{n} = {325}/{500} = 0.65\n",
    "p = 0.65 is the sample proportion; this is the point estimate of the population proportion.\n",
    "\n",
    "q = 1 – p = 1 – 0.65 = 0.35\n",
    "\n",
    "Since CL = 0.95, then α = 1 – CL = 1 – 0.95 = 0.05 \n",
    "{alpha }/{2} = 0.025.\n",
    "\n",
    "Then {z}_{frac{alpha }/{2}}={z}_{0.025} = 1.96\n",
    "\n",
    "al probability table.\n",
    "\n",
    "EBP(The error bound for a proportion) = {z}_{frac{alpha }/{2} * sqrt(pq/n)\n",
    "\n",
    "\n",
    "lower_bound = X̄ - moe\n",
    "            = 0.65 -(1.96*(sqrt((0.65*0.35)/500))) = 0.608191771\n",
    "\n",
    "upper_bound = X̄ + moe\n",
    "            = 0.65 +(1.96*(sqrt((0.65*0.35)/500))) = 0.691808229\n",
    "\n",
    "Interpretation:\n",
    "    We estimate with 95% confidence that between 60.81% and 69.18% of people are satisfied with their job."
   ]
  },
  {
   "cell_type": "code",
   "execution_count": null,
   "id": "f0524e58-10d9-4ba8-af6a-666346db79e9",
   "metadata": {},
   "outputs": [],
   "source": [
    "Q12. A researcher is testing the effectiveness of two different teaching methods on student performance.\n",
    "Sample A has a mean score of 85 with a standard deviation of 6, while sample B has a mean score of 82\n",
    "with a standard deviation of 5. Conduct a hypothesis test to determine if the two teaching methods have a\n",
    "significant difference in student performance using a t-test with a significance level of 0.01."
   ]
  },
  {
   "cell_type": "code",
   "execution_count": null,
   "id": "2272fcf6-9d9c-4805-8393-1cb632462712",
   "metadata": {},
   "outputs": [],
   "source": [
    "sampleA mean(X̄1) = 85, sampleA std(s1) = 6\n",
    "sampleB mean(X̄2) = 82, sampleB std(s2) = 5\n",
    "Let the sample size(n) = 30\n",
    "Let population mean for sample A(mu1) is 84 and for sample B(mu2) is 81\n",
    "confidence interval = 0.99, significance value(α) = 1-0.90 = 0.10 \n",
    "α/2 = 0.10/2 = 0.05\n",
    "\n",
    "Null Hypothesis(H0): 𝜇1=𝜇2 \n",
    "Alternate Hypothesis(H1): 𝜇1≠𝜇2\n",
    "\n",
    "df = n-1 = 29\n",
    "t-score at 0.05 = 1.699\n",
    "t-test statistic for sample A =  X̄1-mu1/(s1/sqrt(n))\n",
    "                              =  85-84/(6/5.47) = 1/1.096 = 0.9124\n",
    "        \n",
    "t-test statistic for sample B =  X̄2-mu2/(s2/sqrt(n))\n",
    "                              =  82-81/(5/5.47) = 1/1.096 = 0.9124\n",
    "    \n",
    "As t-test(0.9124)<1.699, therefore we accept the null hypothesis."
   ]
  },
  {
   "cell_type": "code",
   "execution_count": null,
   "id": "67b228d3-93ca-4e48-aee6-67ddc2efa3b5",
   "metadata": {},
   "outputs": [],
   "source": [
    "Q13. A population has a mean of 60 and a standard deviation of 8. A sample of 50 observations has a mean\n",
    "of 65. Calculate the 90% confidence interval for the true population mean."
   ]
  },
  {
   "cell_type": "code",
   "execution_count": null,
   "id": "2dc05b53-2b77-416a-9a6e-2ee0a3edd5d6",
   "metadata": {},
   "outputs": [],
   "source": [
    "n=50, sample mean(X̄) = 65, population std(sigma) = 8, population mean(mu) = 60\n",
    "confidence interval = 0.90, significance value(α) = 1-0.90 = 0.10 \n",
    "α/2 = 0.10/2 = 0.05\n",
    "area = 1-0.05 = 0.95\n",
    "z-score at 0.95 = 1.65 \n",
    "\n",
    "lower_bound = X̄ - moe\n",
    "            = 65 -(1.65*(8/sqrt(50))) = 65-1.867 = 63.132\n",
    "\n",
    "upper_bound = X̄ + moe\n",
    "            = 65 +(1.65*(8/sqrt(50))) = 65+1.867 = 66.867"
   ]
  },
  {
   "cell_type": "code",
   "execution_count": null,
   "id": "bc77777a-ece6-4e39-a8fd-d85a8bcf5d55",
   "metadata": {},
   "outputs": [],
   "source": [
    "Q14. In a study of the effects of caffeine on reaction time, a sample of 30 participants had an average\n",
    "reaction time of 0.25 seconds with a standard deviation of 0.05 seconds. Conduct a hypothesis test to\n",
    "determine if the caffeine has a significant effect on reaction time at a 90% confidence level using a t-test."
   ]
  },
  {
   "cell_type": "code",
   "execution_count": null,
   "id": "8e61421a-e36f-4c79-af23-b77dfb215f39",
   "metadata": {},
   "outputs": [],
   "source": [
    "n=30, sample mean(X̄) = 0.25, sample std(s) = 0.05\n",
    "confidence interval = 0.90, significance value(α) = 1-0.90 = 0.10 \n",
    "α/2 = 0.10/2 = 0.05\n",
    "\n",
    "area = 1-0.05 = 0.95\n",
    "z-score at 0.95 = 1.65 \n",
    "\n",
    "lower_bound = X̄ - moe\n",
    "            = 0.25 -(1.65*(0.05/sqrt(30))) = 0.2349\n",
    "\n",
    "upper_bound = X̄ + moe\n",
    "            = 0.25 +(1.65*(0.05/sqrt(30))) = 0.2650\n",
    "    \n",
    "estimated population mean = (lower_bound + upper_bound) / 2\n",
    "                          = 0.249\n",
    "\n",
    "Null Hypothesis(H0)= The caffeine has a significant effect on reaction time\n",
    "Alternate Hypothesis(H1)= the caffeine has not a significant effect on reaction time\n",
    "\n",
    "df = n-1 = 29\n",
    "t-score at 0.05 = 1.699\n",
    "t-test statistic =  X̄-mu/(s/sqrt(n))\n",
    "                 = 0.25-0.249/(0.05/5.477)\n",
    "                 = 0.001/0.0091 = 0.10989\n",
    "        \n",
    "As t-test(0.10989)<1.699, therefore we are failed to reject the null hypothesis."
   ]
  }
 ],
 "metadata": {
  "kernelspec": {
   "display_name": "Python 3 (ipykernel)",
   "language": "python",
   "name": "python3"
  },
  "language_info": {
   "codemirror_mode": {
    "name": "ipython",
    "version": 3
   },
   "file_extension": ".py",
   "mimetype": "text/x-python",
   "name": "python",
   "nbconvert_exporter": "python",
   "pygments_lexer": "ipython3",
   "version": "3.10.8"
  }
 },
 "nbformat": 4,
 "nbformat_minor": 5
}
